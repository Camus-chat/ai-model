{
 "cells": [
  {
   "cell_type": "code",
   "execution_count": 6,
   "id": "8786568a",
   "metadata": {},
   "outputs": [
    {
     "data": {
      "text/html": [
       "<div>\n",
       "<style scoped>\n",
       "    .dataframe tbody tr th:only-of-type {\n",
       "        vertical-align: middle;\n",
       "    }\n",
       "\n",
       "    .dataframe tbody tr th {\n",
       "        vertical-align: top;\n",
       "    }\n",
       "\n",
       "    .dataframe thead th {\n",
       "        text-align: right;\n",
       "    }\n",
       "</style>\n",
       "<table border=\"1\" class=\"dataframe\">\n",
       "  <thead>\n",
       "    <tr style=\"text-align: right;\">\n",
       "      <th></th>\n",
       "      <th>text</th>\n",
       "      <th>label</th>\n",
       "    </tr>\n",
       "  </thead>\n",
       "  <tbody>\n",
       "    <tr>\n",
       "      <th>0</th>\n",
       "      <td>자한당틀딱들.. 악플질 고만해라.</td>\n",
       "      <td>1</td>\n",
       "    </tr>\n",
       "    <tr>\n",
       "      <th>1</th>\n",
       "      <td>정치적으로 편향된 평론한은 분은 별로...</td>\n",
       "      <td>2</td>\n",
       "    </tr>\n",
       "    <tr>\n",
       "      <th>2</th>\n",
       "      <td>적당히좀 쳐먹지.그랬냐??? 안그래도 문재인 때문에 나라 엉망진창인데...</td>\n",
       "      <td>1</td>\n",
       "    </tr>\n",
       "    <tr>\n",
       "      <th>3</th>\n",
       "      <td>안서는 아재들 풀발기 ㅋㄲㅋ</td>\n",
       "      <td>1</td>\n",
       "    </tr>\n",
       "    <tr>\n",
       "      <th>4</th>\n",
       "      <td>우와 ㅋ 능력자</td>\n",
       "      <td>2</td>\n",
       "    </tr>\n",
       "    <tr>\n",
       "      <th>...</th>\n",
       "      <td>...</td>\n",
       "      <td>...</td>\n",
       "    </tr>\n",
       "    <tr>\n",
       "      <th>78972</th>\n",
       "      <td>녹취 했다는 자체가 곽도원도 뭔 가 석연치 않은 분위기내..멀쩡하게 죄없는 사람한테...</td>\n",
       "      <td>2</td>\n",
       "    </tr>\n",
       "    <tr>\n",
       "      <th>78973</th>\n",
       "      <td>빨갱이당이나 쪽발이당이나ㅋ 같은 ㅆㄹ기들 ㅋ</td>\n",
       "      <td>1</td>\n",
       "    </tr>\n",
       "    <tr>\n",
       "      <th>78974</th>\n",
       "      <td>성상품화 aut</td>\n",
       "      <td>2</td>\n",
       "    </tr>\n",
       "    <tr>\n",
       "      <th>78975</th>\n",
       "      <td>열한살인뎁 섹스파티가 뭔가연?</td>\n",
       "      <td>2</td>\n",
       "    </tr>\n",
       "    <tr>\n",
       "      <th>78976</th>\n",
       "      <td>예나지금이나 생각없이 행동하고 말하고 이기적인건 여전한 쪽빠리!!!</td>\n",
       "      <td>1</td>\n",
       "    </tr>\n",
       "  </tbody>\n",
       "</table>\n",
       "<p>78977 rows × 2 columns</p>\n",
       "</div>"
      ],
      "text/plain": [
       "                                                    text  label\n",
       "0                                     자한당틀딱들.. 악플질 고만해라.      1\n",
       "1                                정치적으로 편향된 평론한은 분은 별로...      2\n",
       "2              적당히좀 쳐먹지.그랬냐??? 안그래도 문재인 때문에 나라 엉망진창인데...      1\n",
       "3                                        안서는 아재들 풀발기 ㅋㄲㅋ      1\n",
       "4                                               우와 ㅋ 능력자      2\n",
       "...                                                  ...    ...\n",
       "78972  녹취 했다는 자체가 곽도원도 뭔 가 석연치 않은 분위기내..멀쩡하게 죄없는 사람한테...      2\n",
       "78973                           빨갱이당이나 쪽발이당이나ㅋ 같은 ㅆㄹ기들 ㅋ      1\n",
       "78974                                           성상품화 aut      2\n",
       "78975                                   열한살인뎁 섹스파티가 뭔가연?      2\n",
       "78976              예나지금이나 생각없이 행동하고 말하고 이기적인건 여전한 쪽빠리!!!      1\n",
       "\n",
       "[78977 rows x 2 columns]"
      ]
     },
     "execution_count": 6,
     "metadata": {},
     "output_type": "execute_result"
    }
   ],
   "source": [
    "import pandas as pd\n",
    "\n",
    "\n",
    "mydata = 'mydata/'\n",
    "train_path = mydata+'mydata_train.csv'\n",
    "test_path = mydata+'mydata_test.csv'\n",
    "valid_path = mydata+'mydata_valid.csv'\n",
    "# 데이터 불러오기\n",
    "train_data = pd.read_csv(train_path, sep=',')\n",
    "test_data = pd.read_csv(test_path, sep=',')\n",
    "valid_data = pd.read_csv(valid_path, sep=',')\n",
    "\n",
    "# 컬럼 이름 설정 (예시)\n",
    "train_data.columns = ['text', 'label']\n",
    "test_data.columns = ['text', 'label']\n",
    "valid_data.columns = ['text', 'label']\n",
    "\n",
    "train_data"
   ]
  },
  {
   "cell_type": "code",
   "execution_count": 9,
   "id": "ff806c6f",
   "metadata": {},
   "outputs": [
    {
     "data": {
      "image/png": "[encoded data removed]",
      "text/plain": [
       "<Figure size 1000x600 with 1 Axes>"
      ]
     },
     "metadata": {},
     "output_type": "display_data"
    }
   ],
   "source": [
    "import matplotlib.pyplot as plt\n",
    "\n",
    "# 'text' 컬럼에서 각 텍스트의 길이(단어 수) 계산\n",
    "train_data['text_length'] = train_data['text'].apply(lambda x: len(x.split()))\n",
    "\n",
    "# 텍스트 길이의 히스토그램 그리기\n",
    "plt.figure(figsize=(10, 6))  # 그래프의 크기 조절\n",
    "plt.hist(train_data['text_length'], bins=50, color='blue', alpha=0.7)  # 히스토그램 생성\n",
    "plt.title('Text Length Distribution')  # 그래프 제목\n",
    "plt.xlabel('Length of Text')  # x축 라벨\n",
    "plt.ylabel('Frequency')  # y축 라벨\n",
    "plt.grid(True)  # 격자 보이기\n",
    "plt.show()  # 그래프 표시"
   ]
  },
  {
   "cell_type": "code",
   "execution_count": 11,
   "id": "b73c448c",
   "metadata": {},
   "outputs": [
    {
     "name": "stdout",
     "output_type": "stream",
     "text": [
      "The maximum length of text is: 82 words\n"
     ]
    }
   ],
   "source": [
    "# 'text_length' 컬럼에서 최대 길이 찾기\n",
    "max_length = train_data['text_length'].max()\n",
    "\n",
    "print(f\"The maximum length of text is: {max_length} words\")"
   ]
  },
  {
   "cell_type": "code",
   "execution_count": 12,
   "id": "6dc1df58",
   "metadata": {},
   "outputs": [],
   "source": [
    "# Trainer 객체 생성\n",
    "trainer = Trainer(\n",
    "    model=model,\n",
    "    args=training_args\n",
    ")"
   ]
  },
  {
   "cell_type": "code",
   "execution_count": null,
   "id": "cecbfa56",
   "metadata": {},
   "outputs": [],
   "source": []
  }
 ],
 "metadata": {
  "kernelspec": {
   "display_name": "Python 3 (ipykernel)",
   "language": "python",
   "name": "python3"
  },
  "language_info": {
   "codemirror_mode": {
    "name": "ipython",
    "version": 3
   },
   "file_extension": ".py",
   "mimetype": "text/x-python",
   "name": "python",
   "nbconvert_exporter": "python",
   "pygments_lexer": "ipython3",
   "version": "3.9.7"
  }
 },
 "nbformat": 4,
 "nbformat_minor": 5
}
