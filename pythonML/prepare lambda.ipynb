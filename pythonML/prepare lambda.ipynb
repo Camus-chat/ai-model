{
 "cells": [
  {
   "cell_type": "code",
   "execution_count": 1,
   "id": "c4816fd6",
   "metadata": {},
   "outputs": [],
   "source": [
    "from transformers import AutoModelForSequenceClassification, AutoTokenizer\n",
    "import torch\n",
    "\n",
    "# 모델 로드\n",
    "model = AutoModelForSequenceClassification.from_pretrained('model')\n",
    "model.eval()  # 평가 모드로 설정\n",
    "\n",
    "tokenizer = AutoTokenizer.from_pretrained(\"tokenizer\")\n",
    "\n",
    "def preprocess(text):\n",
    "    encode_data = tokenizer(\n",
    "        text,\n",
    "        return_tensors='pt',\n",
    "        max_length=64,\n",
    "        padding=True,\n",
    "        truncation=True,\n",
    "        add_special_tokens=True\n",
    "    )\n",
    "    return encode_data\n",
    "\n",
    "def predict(text):\n",
    "    # 데이터 전처리\n",
    "    inputs = preprocess(text)\n",
    "\n",
    "    # 입력 데이터로부터 필요한 텐서 추출\n",
    "    input_ids = inputs['input_ids']\n",
    "    attention_mask = inputs['attention_mask']\n",
    "\n",
    "    # 예측 수행\n",
    "    with torch.no_grad():\n",
    "        outputs = model(input_ids, attention_mask=attention_mask)\n",
    "    \n",
    "    # 결과 처리 (예: 로짓 또는 확률 추출)\n",
    "    logits = outputs.logits\n",
    "    predicted_label = torch.argmax(logits, dim=1)\n",
    "\n",
    "    return predicted_label.item()"
   ]
  },
  {
   "cell_type": "code",
   "execution_count": null,
   "id": "47be2d10",
   "metadata": {},
   "outputs": [],
   "source": []
  }
 ],
 "metadata": {
  "kernelspec": {
   "display_name": "Python 3 (ipykernel)",
   "language": "python",
   "name": "python3"
  },
  "language_info": {
   "codemirror_mode": {
    "name": "ipython",
    "version": 3
   },
   "file_extension": ".py",
   "mimetype": "text/x-python",
   "name": "python",
   "nbconvert_exporter": "python",
   "pygments_lexer": "ipython3",
   "version": "3.9.7"
  }
 },
 "nbformat": 4,
 "nbformat_minor": 5
}
